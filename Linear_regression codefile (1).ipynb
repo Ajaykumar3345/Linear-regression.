{
  "nbformat": 4,
  "nbformat_minor": 0,
  "metadata": {
    "colab": {
      "provenance": []
    },
    "kernelspec": {
      "name": "python3",
      "display_name": "Python 3"
    },
    "language_info": {
      "name": "python"
    }
  },
  "cells": [
    {
      "cell_type": "code",
      "execution_count": 1,
      "metadata": {
        "id": "HHKgO6WuCk5U"
      },
      "outputs": [],
      "source": [
        "#Linear Regression Without Sklearn\n",
        "#Lets create a Fahrenheit prediction model where Celsius is Feature.\n",
        "#Feature=input and Label=output"
      ]
    },
    {
      "cell_type": "code",
      "source": [
        "import numpy as np\n",
        "import matplotlib.pyplot as plt\n",
        "import pandas as pd"
      ],
      "metadata": {
        "id": "Obb1M63JCnms"
      },
      "execution_count": 2,
      "outputs": []
    },
    {
      "cell_type": "code",
      "source": [
        "celsius_feature = np.arange(20,80)\n",
        "fahren_label = (celsius_feature * 1.8) + 32"
      ],
      "metadata": {
        "id": "w17Hjp8ZC4n1"
      },
      "execution_count": 3,
      "outputs": []
    },
    {
      "cell_type": "code",
      "source": [
        "df = pd.DataFrame({\"Feature\":celsius_feature,\"Label\":fahren_label})"
      ],
      "metadata": {
        "id": "NoyIKdcJC5BY"
      },
      "execution_count": 4,
      "outputs": []
    },
    {
      "cell_type": "code",
      "source": [
        "df.sample(10)"
      ],
      "metadata": {
        "colab": {
          "base_uri": "https://localhost:8080/",
          "height": 363
        },
        "id": "-m50uhuMC5ml",
        "outputId": "8c48a39c-f311-443b-e924-3bee10e9cba7"
      },
      "execution_count": 5,
      "outputs": [
        {
          "output_type": "execute_result",
          "data": {
            "text/plain": [
              "    Feature  Label\n",
              "22       42  107.6\n",
              "28       48  118.4\n",
              "4        24   75.2\n",
              "34       54  129.2\n",
              "36       56  132.8\n",
              "33       53  127.4\n",
              "11       31   87.8\n",
              "38       58  136.4\n",
              "53       73  163.4\n",
              "58       78  172.4"
            ],
            "text/html": [
              "\n",
              "  <div id=\"df-849b00af-0379-4b96-a44b-f4968ce7e78e\">\n",
              "    <div class=\"colab-df-container\">\n",
              "      <div>\n",
              "<style scoped>\n",
              "    .dataframe tbody tr th:only-of-type {\n",
              "        vertical-align: middle;\n",
              "    }\n",
              "\n",
              "    .dataframe tbody tr th {\n",
              "        vertical-align: top;\n",
              "    }\n",
              "\n",
              "    .dataframe thead th {\n",
              "        text-align: right;\n",
              "    }\n",
              "</style>\n",
              "<table border=\"1\" class=\"dataframe\">\n",
              "  <thead>\n",
              "    <tr style=\"text-align: right;\">\n",
              "      <th></th>\n",
              "      <th>Feature</th>\n",
              "      <th>Label</th>\n",
              "    </tr>\n",
              "  </thead>\n",
              "  <tbody>\n",
              "    <tr>\n",
              "      <th>22</th>\n",
              "      <td>42</td>\n",
              "      <td>107.6</td>\n",
              "    </tr>\n",
              "    <tr>\n",
              "      <th>28</th>\n",
              "      <td>48</td>\n",
              "      <td>118.4</td>\n",
              "    </tr>\n",
              "    <tr>\n",
              "      <th>4</th>\n",
              "      <td>24</td>\n",
              "      <td>75.2</td>\n",
              "    </tr>\n",
              "    <tr>\n",
              "      <th>34</th>\n",
              "      <td>54</td>\n",
              "      <td>129.2</td>\n",
              "    </tr>\n",
              "    <tr>\n",
              "      <th>36</th>\n",
              "      <td>56</td>\n",
              "      <td>132.8</td>\n",
              "    </tr>\n",
              "    <tr>\n",
              "      <th>33</th>\n",
              "      <td>53</td>\n",
              "      <td>127.4</td>\n",
              "    </tr>\n",
              "    <tr>\n",
              "      <th>11</th>\n",
              "      <td>31</td>\n",
              "      <td>87.8</td>\n",
              "    </tr>\n",
              "    <tr>\n",
              "      <th>38</th>\n",
              "      <td>58</td>\n",
              "      <td>136.4</td>\n",
              "    </tr>\n",
              "    <tr>\n",
              "      <th>53</th>\n",
              "      <td>73</td>\n",
              "      <td>163.4</td>\n",
              "    </tr>\n",
              "    <tr>\n",
              "      <th>58</th>\n",
              "      <td>78</td>\n",
              "      <td>172.4</td>\n",
              "    </tr>\n",
              "  </tbody>\n",
              "</table>\n",
              "</div>\n",
              "      <button class=\"colab-df-convert\" onclick=\"convertToInteractive('df-849b00af-0379-4b96-a44b-f4968ce7e78e')\"\n",
              "              title=\"Convert this dataframe to an interactive table.\"\n",
              "              style=\"display:none;\">\n",
              "        \n",
              "  <svg xmlns=\"http://www.w3.org/2000/svg\" height=\"24px\"viewBox=\"0 0 24 24\"\n",
              "       width=\"24px\">\n",
              "    <path d=\"M0 0h24v24H0V0z\" fill=\"none\"/>\n",
              "    <path d=\"M18.56 5.44l.94 2.06.94-2.06 2.06-.94-2.06-.94-.94-2.06-.94 2.06-2.06.94zm-11 1L8.5 8.5l.94-2.06 2.06-.94-2.06-.94L8.5 2.5l-.94 2.06-2.06.94zm10 10l.94 2.06.94-2.06 2.06-.94-2.06-.94-.94-2.06-.94 2.06-2.06.94z\"/><path d=\"M17.41 7.96l-1.37-1.37c-.4-.4-.92-.59-1.43-.59-.52 0-1.04.2-1.43.59L10.3 9.45l-7.72 7.72c-.78.78-.78 2.05 0 2.83L4 21.41c.39.39.9.59 1.41.59.51 0 1.02-.2 1.41-.59l7.78-7.78 2.81-2.81c.8-.78.8-2.07 0-2.86zM5.41 20L4 18.59l7.72-7.72 1.47 1.35L5.41 20z\"/>\n",
              "  </svg>\n",
              "      </button>\n",
              "      \n",
              "  <style>\n",
              "    .colab-df-container {\n",
              "      display:flex;\n",
              "      flex-wrap:wrap;\n",
              "      gap: 12px;\n",
              "    }\n",
              "\n",
              "    .colab-df-convert {\n",
              "      background-color: #E8F0FE;\n",
              "      border: none;\n",
              "      border-radius: 50%;\n",
              "      cursor: pointer;\n",
              "      display: none;\n",
              "      fill: #1967D2;\n",
              "      height: 32px;\n",
              "      padding: 0 0 0 0;\n",
              "      width: 32px;\n",
              "    }\n",
              "\n",
              "    .colab-df-convert:hover {\n",
              "      background-color: #E2EBFA;\n",
              "      box-shadow: 0px 1px 2px rgba(60, 64, 67, 0.3), 0px 1px 3px 1px rgba(60, 64, 67, 0.15);\n",
              "      fill: #174EA6;\n",
              "    }\n",
              "\n",
              "    [theme=dark] .colab-df-convert {\n",
              "      background-color: #3B4455;\n",
              "      fill: #D2E3FC;\n",
              "    }\n",
              "\n",
              "    [theme=dark] .colab-df-convert:hover {\n",
              "      background-color: #434B5C;\n",
              "      box-shadow: 0px 1px 3px 1px rgba(0, 0, 0, 0.15);\n",
              "      filter: drop-shadow(0px 1px 2px rgba(0, 0, 0, 0.3));\n",
              "      fill: #FFFFFF;\n",
              "    }\n",
              "  </style>\n",
              "\n",
              "      <script>\n",
              "        const buttonEl =\n",
              "          document.querySelector('#df-849b00af-0379-4b96-a44b-f4968ce7e78e button.colab-df-convert');\n",
              "        buttonEl.style.display =\n",
              "          google.colab.kernel.accessAllowed ? 'block' : 'none';\n",
              "\n",
              "        async function convertToInteractive(key) {\n",
              "          const element = document.querySelector('#df-849b00af-0379-4b96-a44b-f4968ce7e78e');\n",
              "          const dataTable =\n",
              "            await google.colab.kernel.invokeFunction('convertToInteractive',\n",
              "                                                     [key], {});\n",
              "          if (!dataTable) return;\n",
              "\n",
              "          const docLinkHtml = 'Like what you see? Visit the ' +\n",
              "            '<a target=\"_blank\" href=https://colab.research.google.com/notebooks/data_table.ipynb>data table notebook</a>'\n",
              "            + ' to learn more about interactive tables.';\n",
              "          element.innerHTML = '';\n",
              "          dataTable['output_type'] = 'display_data';\n",
              "          await google.colab.output.renderOutput(dataTable, element);\n",
              "          const docLink = document.createElement('div');\n",
              "          docLink.innerHTML = docLinkHtml;\n",
              "          element.appendChild(docLink);\n",
              "        }\n",
              "      </script>\n",
              "    </div>\n",
              "  </div>\n",
              "  "
            ]
          },
          "metadata": {},
          "execution_count": 5
        }
      ]
    },
    {
      "cell_type": "code",
      "source": [
        "df.info()"
      ],
      "metadata": {
        "colab": {
          "base_uri": "https://localhost:8080/"
        },
        "id": "j1ijBrGDC5_u",
        "outputId": "f670055f-d219-4b13-fcb9-356c1c4b234a"
      },
      "execution_count": 6,
      "outputs": [
        {
          "output_type": "stream",
          "name": "stdout",
          "text": [
            "<class 'pandas.core.frame.DataFrame'>\n",
            "RangeIndex: 60 entries, 0 to 59\n",
            "Data columns (total 2 columns):\n",
            " #   Column   Non-Null Count  Dtype  \n",
            "---  ------   --------------  -----  \n",
            " 0   Feature  60 non-null     int64  \n",
            " 1   Label    60 non-null     float64\n",
            "dtypes: float64(1), int64(1)\n",
            "memory usage: 1.1 KB\n"
          ]
        }
      ]
    },
    {
      "cell_type": "code",
      "source": [
        "X = df['Feature']\n",
        "Y = df.Label   #two ways to select the data"
      ],
      "metadata": {
        "id": "2k8Qk6PsC4nB"
      },
      "execution_count": 7,
      "outputs": []
    },
    {
      "cell_type": "code",
      "source": [
        "plt.scatter(X.values,Y.values)\n",
        "plt.title(\"Celsius vs Fahrenheit\")\n",
        "plt.xlabel(\"Celsius\")\n",
        "plt.ylabel(\"Fahrenheit\")\n",
        "plt.show()"
      ],
      "metadata": {
        "colab": {
          "base_uri": "https://localhost:8080/",
          "height": 295
        },
        "id": "3Cc_n1N9DFup",
        "outputId": "4230dbc9-0b5d-4457-b5e9-a0316b35ff8c"
      },
      "execution_count": 8,
      "outputs": [
        {
          "output_type": "display_data",
          "data": {
            "text/plain": [
              "<Figure size 432x288 with 1 Axes>"
            ],
            "image/png": "[encoded data removed]"
          },
          "metadata": {
            "needs_background": "light"
          }
        }
      ]
    },
    {
      "cell_type": "code",
      "source": [
        "#Data Preprocessing\n",
        "#Remove the missing value\n",
        "#Scale numerical data type and Encode categorical data type\n",
        "#Split the Data"
      ],
      "metadata": {
        "id": "PiInJV8ODGEg"
      },
      "execution_count": 9,
      "outputs": []
    },
    {
      "cell_type": "code",
      "source": [
        "import seaborn as sns\n",
        "\n",
        "sns.heatmap(df.isnull())\n",
        "plt.show()\n"
      ],
      "metadata": {
        "colab": {
          "base_uri": "https://localhost:8080/",
          "height": 269
        },
        "id": "iBGORb_-DOo6",
        "outputId": "9130dca3-07b6-43b6-befc-bb3462c5b17a"
      },
      "execution_count": 10,
      "outputs": [
        {
          "output_type": "display_data",
          "data": {
            "text/plain": [
              "<Figure size 432x288 with 2 Axes>"
            ],
            "image/png": "[encoded data removed]"
          },
          "metadata": {
            "needs_background": "light"
          }
        }
      ]
    },
    {
      "cell_type": "markdown",
      "source": [
        "We have no empty values and moreover we have single feature and that belongs to Numerical Data type"
      ],
      "metadata": {
        "id": "d9RzLDm6LFOO"
      }
    },
    {
      "cell_type": "code",
      "source": [
        "#Scale the Numerical Data "
      ],
      "metadata": {
        "id": "JaT4gmecDlP9"
      },
      "execution_count": 15,
      "outputs": []
    },
    {
      "cell_type": "markdown",
      "source": [
        "scale =(x−μ)/(σ)\n",
        "\n",
        "\n",
        "where x is feature;\n",
        "μ= mean; \n",
        "σ= standard deviation\n",
        "\n",
        "\n"
      ],
      "metadata": {
        "id": "Sueqj6KxLeoo"
      }
    },
    {
      "cell_type": "code",
      "source": [
        "#StandardScalar\n",
        "class StandardScalar():\n",
        "    def fit_transform(self,x):\n",
        "        mean = np.mean(x)\n",
        "        std_dev = np.std(x)\n",
        "        return (x-mean)/std_dev"
      ],
      "metadata": {
        "id": "yVk9mgN4Dltc"
      },
      "execution_count": 18,
      "outputs": []
    },
    {
      "cell_type": "code",
      "source": [
        "sc = StandardScalar()\n",
        "x = sc.fit_transform(X)"
      ],
      "metadata": {
        "id": "-gQded1aDmJQ"
      },
      "execution_count": 21,
      "outputs": []
    },
    {
      "cell_type": "code",
      "source": [
        "x[:5]"
      ],
      "metadata": {
        "colab": {
          "base_uri": "https://localhost:8080/"
        },
        "id": "B9mvrDBMDme-",
        "outputId": "c176b948-6259-492f-ac5d-7b0207d982bd"
      },
      "execution_count": 22,
      "outputs": [
        {
          "output_type": "execute_result",
          "data": {
            "text/plain": [
              "0   -1.703420\n",
              "1   -1.645677\n",
              "2   -1.587934\n",
              "3   -1.530191\n",
              "4   -1.472448\n",
              "Name: Feature, dtype: float64"
            ]
          },
          "metadata": {},
          "execution_count": 22
        }
      ]
    },
    {
      "cell_type": "code",
      "source": [
        "type(x)"
      ],
      "metadata": {
        "colab": {
          "base_uri": "https://localhost:8080/"
        },
        "id": "BsjAjQmcDm4L",
        "outputId": "603f40d1-effb-4e0e-a342-720b200ce09a"
      },
      "execution_count": 23,
      "outputs": [
        {
          "output_type": "execute_result",
          "data": {
            "text/plain": [
              "pandas.core.series.Series"
            ]
          },
          "metadata": {},
          "execution_count": 23
        }
      ]
    },
    {
      "cell_type": "code",
      "source": [
        "Y = Y.values"
      ],
      "metadata": {
        "id": "HDZcDePbMu6f"
      },
      "execution_count": 26,
      "outputs": []
    },
    {
      "cell_type": "code",
      "source": [
        "y = sc.fit_transform(Y)"
      ],
      "metadata": {
        "id": "n5yt_EfeM7qg"
      },
      "execution_count": 27,
      "outputs": []
    },
    {
      "cell_type": "code",
      "source": [
        "y"
      ],
      "metadata": {
        "colab": {
          "base_uri": "https://localhost:8080/"
        },
        "id": "Cr2OgY3CM_ej",
        "outputId": "e7f6bde0-d49c-4f21-a061-ac3773ee7f0d"
      },
      "execution_count": 28,
      "outputs": [
        {
          "output_type": "execute_result",
          "data": {
            "text/plain": [
              "array([-1.7034199 , -1.64567685, -1.5879338 , -1.53019075, -1.47244771,\n",
              "       -1.41470466, -1.35696161, -1.29921857, -1.24147552, -1.18373247,\n",
              "       -1.12598942, -1.06824638, -1.01050333, -0.95276028, -0.89501723,\n",
              "       -0.83727419, -0.77953114, -0.72178809, -0.66404504, -0.606302  ,\n",
              "       -0.54855895, -0.4908159 , -0.43307286, -0.37532981, -0.31758676,\n",
              "       -0.25984371, -0.20210067, -0.14435762, -0.08661457, -0.02887152,\n",
              "        0.02887152,  0.08661457,  0.14435762,  0.20210067,  0.25984371,\n",
              "        0.31758676,  0.37532981,  0.43307286,  0.4908159 ,  0.54855895,\n",
              "        0.606302  ,  0.66404504,  0.72178809,  0.77953114,  0.83727419,\n",
              "        0.89501723,  0.95276028,  1.01050333,  1.06824638,  1.12598942,\n",
              "        1.18373247,  1.24147552,  1.29921857,  1.35696161,  1.41470466,\n",
              "        1.47244771,  1.53019075,  1.5879338 ,  1.64567685,  1.7034199 ])"
            ]
          },
          "metadata": {},
          "execution_count": 28
        }
      ]
    },
    {
      "cell_type": "markdown",
      "source": [
        "Split The Data"
      ],
      "metadata": {
        "id": "4QAkesiaNRjM"
      }
    },
    {
      "cell_type": "code",
      "source": [
        "train_size = int(0.8*len(x))\n",
        "# or test_size = int(0.2*len(x))\n",
        "\n",
        "size = list(range(len(x)))\n",
        "np.random.shuffle(size)\n",
        "x = x[size]\n",
        "y = y[size]"
      ],
      "metadata": {
        "id": "dz1ZRj0YNMv7"
      },
      "execution_count": 29,
      "outputs": []
    },
    {
      "cell_type": "code",
      "source": [
        "x[:10]"
      ],
      "metadata": {
        "colab": {
          "base_uri": "https://localhost:8080/"
        },
        "id": "BrsqLffGNaHg",
        "outputId": "7d677b92-1a3f-4ee9-a0ed-e07976b8c2b5"
      },
      "execution_count": 30,
      "outputs": [
        {
          "output_type": "execute_result",
          "data": {
            "text/plain": [
              "array([ 0.606302  ,  1.41470466, -1.35696161,  1.01050333,  1.64567685,\n",
              "        1.12598942, -1.18373247, -0.31758676, -1.24147552,  0.77953114])"
            ]
          },
          "metadata": {},
          "execution_count": 30
        }
      ]
    },
    {
      "cell_type": "code",
      "source": [
        "y[:10]"
      ],
      "metadata": {
        "colab": {
          "base_uri": "https://localhost:8080/"
        },
        "id": "anxYkVQHNc-n",
        "outputId": "74bef975-1ba7-41a9-bc75-c0c754ec3864"
      },
      "execution_count": 31,
      "outputs": [
        {
          "output_type": "execute_result",
          "data": {
            "text/plain": [
              "array([ 0.606302  ,  1.41470466, -1.35696161,  1.01050333,  1.64567685,\n",
              "        1.12598942, -1.18373247, -0.31758676, -1.24147552,  0.77953114])"
            ]
          },
          "metadata": {},
          "execution_count": 31
        }
      ]
    },
    {
      "cell_type": "code",
      "source": [
        "x_train = x[0:train_size].reshape(-1,1)\n",
        "y_train = y[0:train_size].reshape(-1,1)\n",
        "x_test = x[train_size:].reshape(-1,1)\n",
        "y_test = y[train_size:].reshape(-1,1)"
      ],
      "metadata": {
        "id": "qHrWUGcCNgsJ"
      },
      "execution_count": 32,
      "outputs": []
    },
    {
      "cell_type": "code",
      "source": [
        "x_train.shape"
      ],
      "metadata": {
        "colab": {
          "base_uri": "https://localhost:8080/"
        },
        "id": "mVCXmZKWNmzG",
        "outputId": "d46a4019-e88d-4281-973a-2d8a705e033e"
      },
      "execution_count": 33,
      "outputs": [
        {
          "output_type": "execute_result",
          "data": {
            "text/plain": [
              "(48, 1)"
            ]
          },
          "metadata": {},
          "execution_count": 33
        }
      ]
    },
    {
      "cell_type": "code",
      "source": [
        "y_train.shape"
      ],
      "metadata": {
        "colab": {
          "base_uri": "https://localhost:8080/"
        },
        "id": "WeV9TQraNmyL",
        "outputId": "fb4240e2-67d7-4de0-ce70-0bd72bdf1955"
      },
      "execution_count": 34,
      "outputs": [
        {
          "output_type": "execute_result",
          "data": {
            "text/plain": [
              "(48, 1)"
            ]
          },
          "metadata": {},
          "execution_count": 34
        }
      ]
    },
    {
      "cell_type": "code",
      "source": [
        "x_test.shape"
      ],
      "metadata": {
        "colab": {
          "base_uri": "https://localhost:8080/"
        },
        "id": "D5Wkjis9Nr8v",
        "outputId": "075c66be-9634-474b-f1bc-c7ad52bbf7a5"
      },
      "execution_count": 35,
      "outputs": [
        {
          "output_type": "execute_result",
          "data": {
            "text/plain": [
              "(12, 1)"
            ]
          },
          "metadata": {},
          "execution_count": 35
        }
      ]
    },
    {
      "cell_type": "code",
      "source": [
        "y_test.shape"
      ],
      "metadata": {
        "colab": {
          "base_uri": "https://localhost:8080/"
        },
        "id": "I4mshm3yNxGG",
        "outputId": "c3ef5ca2-1d5a-4a21-95b7-46e86e20bbdc"
      },
      "execution_count": 36,
      "outputs": [
        {
          "output_type": "execute_result",
          "data": {
            "text/plain": [
              "(12, 1)"
            ]
          },
          "metadata": {},
          "execution_count": 36
        }
      ]
    },
    {
      "cell_type": "code",
      "source": [
        "#Initialize Weights and Bias \n",
        "#Remember the shape for Weights and Bias are very cruical. The x is in form of (n,m) where n is number of n values and m is feature"
      ],
      "metadata": {
        "id": "rJ3TY7tYORNl"
      },
      "execution_count": 39,
      "outputs": []
    },
    {
      "cell_type": "code",
      "source": [
        "# we shall first define initial values for Weights and Biases\n",
        "m = x_train.shape[1]\n",
        "W = 0.01 * np.random.randn(m,1)\n",
        "b = np.zeros((1, 1))"
      ],
      "metadata": {
        "id": "Zs2nR-CGOSqs"
      },
      "execution_count": 40,
      "outputs": []
    },
    {
      "cell_type": "code",
      "source": [
        "W.shape"
      ],
      "metadata": {
        "colab": {
          "base_uri": "https://localhost:8080/"
        },
        "id": "FAWq68zPOvM4",
        "outputId": "38bcd107-2bd7-496e-c4cd-36746179e62d"
      },
      "execution_count": 41,
      "outputs": [
        {
          "output_type": "execute_result",
          "data": {
            "text/plain": [
              "(1, 1)"
            ]
          },
          "metadata": {},
          "execution_count": 41
        }
      ]
    },
    {
      "cell_type": "code",
      "source": [
        "b.shape"
      ],
      "metadata": {
        "colab": {
          "base_uri": "https://localhost:8080/"
        },
        "id": "qs4ss1LGOyBi",
        "outputId": "ec8c2df2-3f85-4104-8472-f58f177c9c53"
      },
      "execution_count": 42,
      "outputs": [
        {
          "output_type": "execute_result",
          "data": {
            "text/plain": [
              "(1, 1)"
            ]
          },
          "metadata": {},
          "execution_count": 42
        }
      ]
    },
    {
      "cell_type": "code",
      "source": [
        "#Train the Model"
      ],
      "metadata": {
        "id": "SC1t5upoNxFL"
      },
      "execution_count": 37,
      "outputs": []
    },
    {
      "cell_type": "markdown",
      "source": [
        "y^=W∗X+b"
      ],
      "metadata": {
        "id": "rO1kIcCXOA0s"
      }
    },
    {
      "cell_type": "code",
      "source": [
        "y_pred = np.dot(x_train,W) + b"
      ],
      "metadata": {
        "id": "RMBfhWXuOAfh"
      },
      "execution_count": 43,
      "outputs": []
    },
    {
      "cell_type": "code",
      "source": [
        "y_pred.shape"
      ],
      "metadata": {
        "colab": {
          "base_uri": "https://localhost:8080/"
        },
        "id": "3SmzDpctN6--",
        "outputId": "58cd4483-2115-4f92-b756-31359d674937"
      },
      "execution_count": 44,
      "outputs": [
        {
          "output_type": "execute_result",
          "data": {
            "text/plain": [
              "(48, 1)"
            ]
          },
          "metadata": {},
          "execution_count": 44
        }
      ]
    },
    {
      "cell_type": "code",
      "source": [
        "y_train.shape"
      ],
      "metadata": {
        "colab": {
          "base_uri": "https://localhost:8080/"
        },
        "id": "-61OMTwSO7fv",
        "outputId": "f35608df-1598-4f7b-ea11-8a0df8c9b9c7"
      },
      "execution_count": 45,
      "outputs": [
        {
          "output_type": "execute_result",
          "data": {
            "text/plain": [
              "(48, 1)"
            ]
          },
          "metadata": {},
          "execution_count": 45
        }
      ]
    },
    {
      "cell_type": "code",
      "source": [
        "#Calculate Loss And Cost Function"
      ],
      "metadata": {
        "id": "i-yG1VevPAmW"
      },
      "execution_count": null,
      "outputs": []
    },
    {
      "cell_type": "markdown",
      "source": [
        "Formula:\n",
        "\n",
        "J(θ)=MSE=1/N ∑Ni−1(yi−y^i)2"
      ],
      "metadata": {
        "id": "hj9jSIHGPE8u"
      }
    },
    {
      "cell_type": "code",
      "source": [
        "def loss(y_train,y_pred):\n",
        "    N = len(y_train)\n",
        "    loss = (1/N) * np.sum((y_pred - y_train)**2)\n",
        "    return loss"
      ],
      "metadata": {
        "id": "AOdFFYC0PBto"
      },
      "execution_count": 46,
      "outputs": []
    },
    {
      "cell_type": "code",
      "source": [
        "#Gradient Descent"
      ],
      "metadata": {
        "id": "DKVKIOGBPaEr"
      },
      "execution_count": 47,
      "outputs": []
    },
    {
      "cell_type": "code",
      "source": [
        "def optimize(W,b,x_train,y_train,learning_rate,y_pred):\n",
        "    N = len(y_train)\n",
        "    dW = -(2/N) * np.sum((y_train - y_pred) * x_train)\n",
        "    db = -(2/N) * np.sum((y_train - y_pred))\n",
        "    W += -learning_rate* dW\n",
        "    b += -learning_rate* db\n",
        "    \n",
        "    grad = {\"dW\":dW,\"db\":db}\n",
        "    update = {\"W\":W,\"b\":b}\n",
        "    return grad,update"
      ],
      "metadata": {
        "id": "65QsvCpQPfmO"
      },
      "execution_count": 48,
      "outputs": []
    },
    {
      "cell_type": "code",
      "source": [
        "def predict(W,b,X):\n",
        "    prediction = np.dot(X,W) + b\n",
        "    return prediction"
      ],
      "metadata": {
        "id": "P7nM8B5APiZx"
      },
      "execution_count": 49,
      "outputs": []
    },
    {
      "cell_type": "code",
      "source": [
        "num_of_iterations = 201 #change and see this difference\n",
        "learning_rate = 0.01\n",
        "W = 0.01 * np.random.randn(m,1)\n",
        "b = np.zeros((1, 1))\n",
        "\n",
        "for i in range(num_of_iterations):\n",
        "    y_pred = np.dot(x_train, W) + b\n",
        "    loss_func = loss(y_train,y_pred)\n",
        "    \n",
        "    if i%20 == 0:\n",
        "        print(f\"Iteration:{i}, Loss: {loss_func}\")\n",
        "    \n",
        "    gradient,change = optimize(W,b,x_train,y_train,learning_rate,y_pred)\n",
        "    dW = gradient[\"dW\"]\n",
        "    db = gradient['db']\n",
        "    W = change[\"W\"]\n",
        "    b = change[\"b\"]\n",
        "    train_predict = predict(W,b,x_train)\n",
        "test_predict = predict(W,b,x_test)"
      ],
      "metadata": {
        "colab": {
          "base_uri": "https://localhost:8080/"
        },
        "id": "c3MDx0L4Prde",
        "outputId": "16cb26ed-94eb-48fe-c13a-e60f97aca711"
      },
      "execution_count": 50,
      "outputs": [
        {
          "output_type": "stream",
          "name": "stdout",
          "text": [
            "Iteration:0, Loss: 0.9785209384557417\n",
            "Iteration:20, Loss: 0.43607610761786303\n",
            "Iteration:40, Loss: 0.1943972665877321\n",
            "Iteration:60, Loss: 0.08668693921096766\n",
            "Iteration:80, Loss: 0.038668089387937976\n",
            "Iteration:100, Loss: 0.017253892235186155\n",
            "Iteration:120, Loss: 0.007701165903007305\n",
            "Iteration:140, Loss: 0.003438432741457944\n",
            "Iteration:160, Loss: 0.0015356731363825552\n",
            "Iteration:180, Loss: 0.0006860735906759378\n",
            "Iteration:200, Loss: 0.0003066024781969071\n"
          ]
        }
      ]
    },
    {
      "cell_type": "markdown",
      "source": [
        "Evaluation Metrics"
      ],
      "metadata": {
        "id": "r3EJoBZZPyBn"
      }
    },
    {
      "cell_type": "code",
      "source": [
        "train_mse = np.mean((y_train - train_predict) ** 2)\n",
        "test_mse = np.mean((y_test - test_predict) ** 2)\n",
        "print(f\"Train MSE: {train_mse}, Test MSE: {test_mse}\")"
      ],
      "metadata": {
        "colab": {
          "base_uri": "https://localhost:8080/"
        },
        "id": "DdnC_6nBPyxq",
        "outputId": "8891a4c2-496a-4e3d-9a40-54f7c486a4d9"
      },
      "execution_count": 51,
      "outputs": [
        {
          "output_type": "stream",
          "name": "stdout",
          "text": [
            "Train MSE: 0.0002945027734123545, Test MSE: 0.00030033269062596885\n"
          ]
        }
      ]
    },
    {
      "cell_type": "code",
      "source": [
        "train_rmse = np.mean((y_train - train_predict) ** 2)\n",
        "test_rmse = np.mean((y_test - test_predict) ** 2)\n",
        "print(f\"Train RMSE: {np.sqrt(train_rmse)}, Test RMSE: {np.sqrt(test_rmse)}\")"
      ],
      "metadata": {
        "colab": {
          "base_uri": "https://localhost:8080/"
        },
        "id": "LAencsJmQAQo",
        "outputId": "bb95a892-c556-4bc2-a58e-01f5ba1255bd"
      },
      "execution_count": 52,
      "outputs": [
        {
          "output_type": "stream",
          "name": "stdout",
          "text": [
            "Train RMSE: 0.017161083107203767, Test RMSE: 0.017330109365666705\n"
          ]
        }
      ]
    },
    {
      "cell_type": "code",
      "source": [
        "def repeat(type_graph):\n",
        "    plt.title(type_graph)\n",
        "    plt.xlabel(\"Celsius\")\n",
        "    plt.ylabel(\"Fahrenheit\")\n",
        "    plt.legend(loc=\"lower right\")"
      ],
      "metadata": {
        "id": "HQxjnqOmQCxa"
      },
      "execution_count": 53,
      "outputs": []
    },
    {
      "cell_type": "code",
      "source": [
        "\n",
        "plt.figure(figsize=(10,6))\n",
        "\n",
        "plt.subplot(1,2,1)\n",
        "plt.scatter(x_train, y_train,label=\"y_train\")\n",
        "plt.plot(x_train,train_predict, color=\"blue\")\n",
        "repeat(\"Training\")\n",
        "\n",
        "plt.subplot(1,2,2)\n",
        "plt.scatter(x_test, y_test, label='y_test')\n",
        "plt.plot(x_test, test_predict, color=\"green\")\n",
        "repeat(\"Testing\")\n",
        "\n",
        "# Show plots\n",
        "plt.show()"
      ],
      "metadata": {
        "colab": {
          "base_uri": "https://localhost:8080/",
          "height": 404
        },
        "id": "ClAJpifXQHb8",
        "outputId": "123e0b28-7c63-48f5-efb8-0f3c2f4ec0ef"
      },
      "execution_count": 54,
      "outputs": [
        {
          "output_type": "display_data",
          "data": {
            "text/plain": [
              "<Figure size 720x432 with 2 Axes>"
            ],
            "image/png": "[encoded data removed]"
          },
          "metadata": {
            "needs_background": "light"
          }
        }
      ]
    },
    {
      "cell_type": "code",
      "source": [],
      "metadata": {
        "id": "wDU_esBoQN2e"
      },
      "execution_count": null,
      "outputs": []
    }
  ]
}